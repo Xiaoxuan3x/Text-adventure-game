{
 "cells": [
  {
   "attachments": {},
   "cell_type": "markdown",
   "metadata": {},
   "source": [
    "game instruction: You can control your direction to move by input:'W' to go up one step; 'S' to go down one step; 'A' to go left one step; 'D' to go right one step. Please notice, when you come to a new room, a new wall would rise between this room and the old room you came from, which means you can never go back.\n",
    "Try to find the exit and avoid dangers on your way!"
   ]
  },
  {
   "cell_type": "code",
   "execution_count": 2,
   "metadata": {},
   "outputs": [
    {
     "name": "stdout",
     "output_type": "stream",
     "text": [
      "You have moved to the next room! You are now at a room with humid air. \n"
     ]
    }
   ],
   "source": [
    "#when user at the start room\n",
    "user_command1=''\n",
    "while user_command1!='W':\n",
    "    user_command1=input(\"You wake up at midnight, at a strange place your never been and  surounded by darkness. Try to find a way to escape and input your first step.\")\n",
    "    if user_command1== 'W':\n",
    "        print('You have moved to the next room! You are now at a room with humid air. ')\n",
    "    elif user_command1=='A'or'D'or'S' :\n",
    "        print( \"Here's a wall! You can't move further in this direction.Try again.\")\n",
    "    else:\n",
    "        print(\"Your input can't be recognised. Try again.\")\n"
   ]
  },
  {
   "cell_type": "code",
   "execution_count": 3,
   "metadata": {},
   "outputs": [
    {
     "name": "stdout",
     "output_type": "stream",
     "text": [
      "You have moved to the next room! You are now at a cozy room without danger\n"
     ]
    }
   ],
   "source": [
    "#when user at the humid room\n",
    "user_command2=''\n",
    "while user_command2!='D':\n",
    "    user_command2=input('You are now at a room with humid air. Try to move to next step.')\n",
    "    if user_command2=='D':\n",
    "        print('You have moved to the next room! You are now at a cozy room without danger')\n",
    "    elif user_command2=='A':\n",
    "        password=''\n",
    "        while password!='125':\n",
    "            password=input('You stepped into jail accidentlly. You can be released only when you input the right password:______.(hint:What number, when added separately, to 100 and 164 can make each a perfect square?)')\n",
    "            if password=='125':\n",
    "                print('You are released back to the room with humid air.')\n",
    "            else:\n",
    "                print('Incorrect password. Please guess again.')\n",
    "    elif user_command2=='W'or'S':\n",
    "        print( \"Here's a wall! You can't move further in this direction.Try again.\")\n",
    "    else:\n",
    "            print(\"Your input can't be recognised. Try again.\")\n",
    "\n",
    "\n",
    "\n"
   ]
  },
  {
   "cell_type": "code",
   "execution_count": 4,
   "metadata": {},
   "outputs": [
    {
     "name": "stdout",
     "output_type": "stream",
     "text": [
      "Here's a wall! You can't move further in this direction.Try again.\n",
      "Here's a wall! You can't move further in this direction.Try again.\n",
      "Here's a wall! You can't move further in this direction.Try again.\n",
      "Here's a wall! You can't move further in this direction.Try again.\n",
      "Here's a wall! You can't move further in this direction.Try again.\n",
      "Here's a wall! You can't move further in this direction.Try again.\n",
      "Here's a wall! You can't move further in this direction.Try again.\n",
      "You have moved to the next room! You are now at room you can feel windy and cool.\n"
     ]
    }
   ],
   "source": [
    "#When user at the cozy room without danger\n",
    "user_command3=''\n",
    "while user_command3!='W':\n",
    "    user_command3= input('You are now at a cozy room with humid air. Try to move to next step.')\n",
    "    if user_command3=='W':\n",
    "        print('You have moved to the next room! You are now at room you can feel windy and cool.')\n",
    "    elif user_command3==\"A\"or\"S\"or\"D\":\n",
    "        print(\"Here's a wall! You can't move further in this direction.Try again.\")\n",
    "    else:\n",
    "        print(\"Your input can't be recognised. Try again.\")\n",
    "\n",
    "\n",
    "\n"
   ]
  },
  {
   "cell_type": "code",
   "execution_count": 18,
   "metadata": {},
   "outputs": [
    {
     "name": "stdout",
     "output_type": "stream",
     "text": [
      "Here's a wall! You can't move further in this direction.Try again.\n",
      "You fell down from the cliff. Game over!\n"
     ]
    }
   ],
   "source": [
    "#When user at the windy room\n",
    "user_command4=''\n",
    "while user_command4!=\"D\":\n",
    "    user_command4=input(\"You are now at a cozy room that you feel windy and cool.\")\n",
    "    if  user_command4==\"D\":\n",
    "         print('You reach the exit! You win the game!')\n",
    "    elif user_command4=='S':\n",
    "         print(\"Here's a wall! You can't move further in this direction.Try again.\")\n",
    "    elif user_command4=='W'or'A':\n",
    "        print ('You fell down from the cliff. Game over!')\n",
    "        break\n",
    "    else:\n",
    "         print(\"Your input can't be recognised. Try again.\")\n"
   ]
  }
 ],
 "metadata": {
  "kernelspec": {
   "display_name": "Python 3",
   "language": "python",
   "name": "python3"
  },
  "language_info": {
   "codemirror_mode": {
    "name": "ipython",
    "version": 3
   },
   "file_extension": ".py",
   "mimetype": "text/x-python",
   "name": "python",
   "nbconvert_exporter": "python",
   "pygments_lexer": "ipython3",
   "version": "3.11.1"
  },
  "orig_nbformat": 4,
  "vscode": {
   "interpreter": {
    "hash": "bdd467bb7a4f68e3b269196ac6111605f64c5fc48bbe9ab62ea9179eddee323f"
   }
  }
 },
 "nbformat": 4,
 "nbformat_minor": 2
}
